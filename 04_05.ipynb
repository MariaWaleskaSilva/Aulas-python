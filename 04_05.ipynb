{
  "nbformat": 4,
  "nbformat_minor": 0,
  "metadata": {
    "colab": {
      "provenance": [],
      "authorship_tag": "ABX9TyN+AW2vFht2CTqGeZYoMSgZ",
      "include_colab_link": true
    },
    "kernelspec": {
      "name": "python3",
      "display_name": "Python 3"
    },
    "language_info": {
      "name": "python"
    }
  },
  "cells": [
    {
      "cell_type": "markdown",
      "metadata": {
        "id": "view-in-github",
        "colab_type": "text"
      },
      "source": [
        "<a href=\"https://colab.research.google.com/github/MariaWaleskaSilva/Aulas-python/blob/main/04_05.ipynb\" target=\"_parent\"><img src=\"https://colab.research.google.com/assets/colab-badge.svg\" alt=\"Open In Colab\"/></a>"
      ]
    },
    {
      "cell_type": "code",
      "execution_count": 5,
      "metadata": {
        "colab": {
          "base_uri": "https://localhost:8080/"
        },
        "id": "QT9c6AsZ2KpZ",
        "outputId": "9510c706-b5a8-443a-c001-d6c8757ac488"
      },
      "outputs": [
        {
          "output_type": "execute_result",
          "data": {
            "text/plain": [
              "[' Ze', 'Tião', 'Joaquim', 'Julia', 'Ana', 'Zabé', 'maria']"
            ]
          },
          "metadata": {},
          "execution_count": 5
        }
      ],
      "source": [
        "nomes = [' Ze', 'Tião', 'Joaquim']\n",
        "nomes.append ('Julia')\n",
        "nomes\n",
        "\n",
        "#Vários Valores \n",
        "outrosNomes = ['Ana', 'Zabé', 'maria']\n",
        "\n",
        "nomes.extend(outrosNomes)\n",
        "\n",
        "nomes"
      ]
    },
    {
      "cell_type": "code",
      "source": [
        "numeros = [ 3, 5, 7, 9]\n",
        "numeros.remove(numeros[0])\n",
        "numeros.pop()\n",
        "\n",
        "numeros"
      ],
      "metadata": {
        "colab": {
          "base_uri": "https://localhost:8080/"
        },
        "id": "YCdXjQth9THk",
        "outputId": "89516bd0-ff35-4ee9-f4a1-48ea5220bcd9"
      },
      "execution_count": 9,
      "outputs": [
        {
          "output_type": "execute_result",
          "data": {
            "text/plain": [
              "[5, 7]"
            ]
          },
          "metadata": {},
          "execution_count": 9
        }
      ]
    },
    {
      "cell_type": "code",
      "source": [
        "#1 - Crie uma lista de notas, e exiba-a da menor para a maior\n",
        "Notas = [2, 20, 45, 77, 100, 253, 378]\n",
        "nomes = ['Jose', 'Mael','Luiz', 'mikael' ]\n",
        "Notas.sort()\n",
        "nomes.sort()\n",
        "#2 - Crie uma lista de nomes de frutas e ordene-a em ordem decrescente\n",
        "     \n",
        "nomes"
      ],
      "metadata": {
        "colab": {
          "base_uri": "https://localhost:8080/"
        },
        "id": "C-WfVj9n_rEd",
        "outputId": "42d3ea84-de09-4673-ed88-d30adee7bc6f"
      },
      "execution_count": 17,
      "outputs": [
        {
          "output_type": "execute_result",
          "data": {
            "text/plain": [
              "['Jose', 'Luiz', 'Mael', 'mikael']"
            ]
          },
          "metadata": {},
          "execution_count": 17
        }
      ]
    },
    {
      "cell_type": "code",
      "source": [
        "#Exemplo função map - cria uma nova lista com o dobro \n",
        "numeros = [15, 22, 37]\n",
        "nova_lista = list(map(lambda x : x*2, numeros))\n",
        "nova_lista"
      ],
      "metadata": {
        "colab": {
          "base_uri": "https://localhost:8080/"
        },
        "id": "V6VuAJ0uCBZG",
        "outputId": "8dded816-76c3-4f8d-f8ac-3d7b4e31d196"
      },
      "execution_count": 20,
      "outputs": [
        {
          "output_type": "execute_result",
          "data": {
            "text/plain": [
              "[30, 44, 74]"
            ]
          },
          "metadata": {},
          "execution_count": 20
        }
      ]
    },
    {
      "cell_type": "code",
      "source": [
        "#Pegarcada um dos numeros e dividir por 3\n",
        "numdivi = list(map(lambda x : x/3, numeros ))\n",
        "\n",
        "numdivi"
      ],
      "metadata": {
        "id": "1aHx-N0CCnoI"
      },
      "execution_count": null,
      "outputs": []
    },
    {
      "cell_type": "code",
      "source": [
        "#PEgar cada numero e somar por 2\n",
        "numdivi = list(map(lambda x :x+3, numeros))\n"
      ],
      "metadata": {
        "id": "DovBMKVTEBnP"
      },
      "execution_count": 25,
      "outputs": []
    },
    {
      "cell_type": "code",
      "source": [
        "from types import LambdaType\n",
        "#exemplo função filtrar - partir de uma lista de nomes, criar uma nova lista apenas com palavras\n",
        "\n",
        "nome = ['Jose', 'Angelo', 'Mia', 'Joaquim', 'Bernado'  ]\n",
        "new_list = list(filter(lambda x : len(x)>5, nomes))\n",
        "new_list"
      ],
      "metadata": {
        "colab": {
          "base_uri": "https://localhost:8080/"
        },
        "id": "78te6V_7E6j-",
        "outputId": "c87c2c16-600a-4578-8f7f-d50c764f60ff"
      },
      "execution_count": 27,
      "outputs": [
        {
          "output_type": "execute_result",
          "data": {
            "text/plain": [
              "['mikael']"
            ]
          },
          "metadata": {},
          "execution_count": 27
        }
      ]
    },
    {
      "cell_type": "code",
      "source": [
        "#crie uma lista de notas, Imprime as maiores que 6\n",
        "notas = [9, 7, 8, 6]\n",
        "notas = list(filter(lambda x : x> 6, notas))"
      ],
      "metadata": {
        "id": "I3RoDtAWF9__"
      },
      "execution_count": 32,
      "outputs": []
    },
    {
      "cell_type": "code",
      "source": [
        "\n",
        "#Dada uma lista de números, retorne uma lista contendo o quadrado de cada número.\n",
        "lista = [4, 8, 6, 10]\n",
        "quadrado = list(map(lambda x: x**2, lista))\n",
        "quadrado"
      ],
      "metadata": {
        "colab": {
          "base_uri": "https://localhost:8080/"
        },
        "id": "14kP6hKGIrXG",
        "outputId": "9f4b0b62-f96a-4897-bcbe-67a8bb2355ba"
      },
      "execution_count": 42,
      "outputs": [
        {
          "output_type": "execute_result",
          "data": {
            "text/plain": [
              "[16, 64, 36, 100]"
            ]
          },
          "metadata": {},
          "execution_count": 42
        }
      ]
    },
    {
      "cell_type": "code",
      "source": [
        "#Dada uma lista de nomes, retorne uma lista contendo o tamanho de cada nome\n",
        "nomes = ['Maria', 'Sandra', 'Paulo', 'Cassio']\n",
        "tamanhos = list(map(lambda x:len(x), nomes))\n",
        "tamanhos"
      ],
      "metadata": {
        "colab": {
          "base_uri": "https://localhost:8080/"
        },
        "id": "K69VGaZbLz8w",
        "outputId": "1a388c3b-d5f7-4cbe-a722-36cad08f689f"
      },
      "execution_count": 44,
      "outputs": [
        {
          "output_type": "execute_result",
          "data": {
            "text/plain": [
              "[5, 6, 5, 6]"
            ]
          },
          "metadata": {},
          "execution_count": 44
        }
      ]
    },
    {
      "cell_type": "code",
      "source": [
        "#Dada uma lista de números, retorne uma lista contendo apenas os números pares.\n",
        "numeros = [1, 2, 3, 4, 5, 6, 7, 8, 9, 10]\n",
        "Pares = list(filter(lambda x: x% 2==0, numeros ))\n",
        "Pares"
      ],
      "metadata": {
        "colab": {
          "base_uri": "https://localhost:8080/"
        },
        "id": "JaHXkBk5M2J8",
        "outputId": "6606f07e-f762-4021-e674-9601742e5a26"
      },
      "execution_count": 49,
      "outputs": [
        {
          "output_type": "execute_result",
          "data": {
            "text/plain": [
              "[2, 4, 6, 8, 10]"
            ]
          },
          "metadata": {},
          "execution_count": 49
        }
      ]
    }
  ]
}