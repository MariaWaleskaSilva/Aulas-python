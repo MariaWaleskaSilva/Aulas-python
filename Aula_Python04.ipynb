{
  "nbformat": 4,
  "nbformat_minor": 0,
  "metadata": {
    "colab": {
      "provenance": [],
      "authorship_tag": "ABX9TyNlGFustAe0gNX3jDVKPNtp",
      "include_colab_link": true
    },
    "kernelspec": {
      "name": "python3",
      "display_name": "Python 3"
    },
    "language_info": {
      "name": "python"
    }
  },
  "cells": [
    {
      "cell_type": "markdown",
      "metadata": {
        "id": "view-in-github",
        "colab_type": "text"
      },
      "source": [
        "<a href=\"https://colab.research.google.com/github/MariaWaleskaSilva/Aulas-python/blob/main/Aula_Python04.ipynb\" target=\"_parent\"><img src=\"https://colab.research.google.com/assets/colab-badge.svg\" alt=\"Open In Colab\"/></a>"
      ]
    },
    {
      "cell_type": "code",
      "execution_count": null,
      "metadata": {
        "colab": {
          "base_uri": "https://localhost:8080/"
        },
        "id": "padUKQxdlxVj",
        "outputId": "032f3cd6-17f9-4b6b-ae46-29574d7f37bb"
      },
      "outputs": [
        {
          "output_type": "stream",
          "name": "stdout",
          "text": [
            "True\n",
            "True\n",
            "True\n",
            "True\n",
            "False\n"
          ]
        }
      ],
      "source": [
        "#resolução de atividade\n",
        "print(100==(50+50))\n",
        "print(100>=(50+50))\n",
        "print(100>(50+0))\n",
        "print(100<=(50+50))\n",
        "print(100!=(50+50))\n",
        "print(100 != 90)\n"
      ]
    },
    {
      "cell_type": "code",
      "source": [
        "#Se a idade for maior que 16, exiba: pode tirar habilitação\n",
        "idade= int(input('Digite a idade:'))\n",
        "if(idade >= 16): \n",
        "  print('Pode tirar habilitação')\n",
        "else:\n",
        "  print('ainda não,filé')"
      ],
      "metadata": {
        "id": "lZRccliapT7c"
      },
      "execution_count": null,
      "outputs": []
    },
    {
      "cell_type": "code",
      "source": [
        "sexo = input('Insira o sexo:, (masculino ou f (feminino' )\n",
        "idade = int(input('insira a idade:'))\n",
        "if((sexo == 'F' and  idade >= 55) or (sexo == 'M' and idade >= 60)):\n",
        " print('Pode se aponsentar')\n",
        "else:\n",
        "  print('ainda não pode')\n"
      ],
      "metadata": {
        "colab": {
          "base_uri": "https://localhost:8080/"
        },
        "id": "ZQri4xw3sLzq",
        "outputId": "01293450-b2bd-456c-a798-64b5dfd2c0d3"
      },
      "execution_count": 6,
      "outputs": [
        {
          "output_type": "stream",
          "name": "stdout",
          "text": [
            "Pode se aponsentar\n"
          ]
        }
      ]
    },
    {
      "cell_type": "code",
      "source": [
        "\n",
        "sexo = 'M'\n",
        "idade = 68\n",
        "if(sexo == 'F' and  idade >= 55):\n",
        "  print('Pode se aponsentar')\n",
        "elif(sexo == 'M' and idade >= 60):\n",
        "  print('Pode se aponsentar')\n",
        "else:\n",
        "  print('ainda não pode')\n"
      ],
      "metadata": {
        "id": "n9wRcVnYwGgm"
      },
      "execution_count": null,
      "outputs": []
    },
    {
      "cell_type": "code",
      "source": [
        "a = int(print('Digite o primeiro nub:'))\n",
        "b = int(print('Digite o segundo nub:'))\n",
        "c = int(print('Digite o terceiro nub:'))\n",
        "if(a>b < c):\n",
        "  print( 'É menor')\n",
        "else:\n",
        "  print(\" não é menor\")"
      ],
      "metadata": {
        "id": "V9dJWMQDwNsd"
      },
      "execution_count": null,
      "outputs": []
    },
    {
      "cell_type": "code",
      "source": [
        "primeiro= int(input(' primeiro nub:'))\n",
        "segundo = int(input('segundo nub:'))\n",
        "maior = primeiro\n",
        "if( segundo >= primeiro ):\n",
        "  print(' maior:', maior)\n",
        "else:\n",
        "  print('menor:', menor)\n",
        "\n"
      ],
      "metadata": {
        "id": "4EFvgebOy2Pb"
      },
      "execution_count": null,
      "outputs": []
    }
  ]
}