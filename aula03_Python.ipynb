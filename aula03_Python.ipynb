{
  "nbformat": 4,
  "nbformat_minor": 0,
  "metadata": {
    "colab": {
      "provenance": [],
      "authorship_tag": "ABX9TyPVd2HSpm1iV13aa/CSYuS7",
      "include_colab_link": true
    },
    "kernelspec": {
      "name": "python3",
      "display_name": "Python 3"
    },
    "language_info": {
      "name": "python"
    }
  },
  "cells": [
    {
      "cell_type": "markdown",
      "metadata": {
        "id": "view-in-github",
        "colab_type": "text"
      },
      "source": [
        "<a href=\"https://colab.research.google.com/github/MariaWaleskaSilva/Aulas-python/blob/main/aula03_Python.ipynb\" target=\"_parent\"><img src=\"https://colab.research.google.com/assets/colab-badge.svg\" alt=\"Open In Colab\"/></a>"
      ]
    },
    {
      "cell_type": "code",
      "execution_count": null,
      "metadata": {
        "id": "n-wEkLLotWkJ"
      },
      "outputs": [],
      "source": [
        "#Solicite a altura e o peso de alguem, é retorne o imc\n",
        "#IMC = PESO / ALTURA\n",
        "peso = float(input('sua peso:'))\n",
        "altura = float(input('seu altura:'))\n",
        "\n",
        "imc = peso/altura**2\n",
        "print('O IMC é:', imc)\n"
      ]
    },
    {
      "cell_type": "code",
      "source": [
        "nome = input(\"Digite seu nome\")\n",
        "print(\"Olá gostosinha\")"
      ],
      "metadata": {
        "id": "WCUDJr22tijl"
      },
      "execution_count": null,
      "outputs": []
    },
    {
      "cell_type": "code",
      "source": [
        "a = 49\n",
        "b = 32\n",
        "\n",
        "#não quero mais\n",
        "print(a + b)\n",
        "print(a * b)\n",
        "print(a - b)\n",
        "print(a / b)\n",
        "print(a % b)"
      ],
      "metadata": {
        "id": "qFg2TmQ8tl0V"
      },
      "execution_count": null,
      "outputs": []
    },
    {
      "cell_type": "code",
      "source": [
        "#verificar se o numero é par\n",
        "num = int(input('Digite um numero:'))\n",
        "if (numb%2 == 0):\n",
        "  print('O numero é par')\n",
        "else:\n",
        "  print('o numero é impar')"
      ],
      "metadata": {
        "id": "ILnStGf2tpZ1"
      },
      "execution_count": null,
      "outputs": []
    },
    {
      "cell_type": "code",
      "source": [
        "#Em um capionato de MMA, tem três categorias por peso \n",
        "#torneira ate 70kg\n",
        "#medio até 80kg\n",
        "#meio peso até 90kg\n",
        "peso = float(input('Digite o peso do atleta'))\n",
        "if(peso <= 70):\n",
        "  print('torneira')\n",
        "elif(peso<= 80):\n",
        "  print('medio')\n",
        "else:\n",
        " print('meio pesodo')\n"
      ],
      "metadata": {
        "id": "0O5bXulNyWdK"
      },
      "execution_count": null,
      "outputs": []
    },
    {
      "cell_type": "code",
      "source": [
        "peso = float(input('sua peso:'))\n",
        "altura = float(input('seu altura:'))\n",
        "imc = peso/altura**2\n",
        "print('O IMC é:', imc)\n",
        "\n",
        "if(imc <= 18.5):\n",
        "  print('A baixo do que o peso normal')\n",
        "elif(imc <= 24.9):\n",
        "  print(' Peso normal')\n",
        "elif(imc<= 29.9):\n",
        "  print('Excesso de peso')\n",
        "elif('imc <= 34.9'):\n",
        "  print('Obesidade classe I')\n",
        "elif('imc <= 39.9'):\n",
        "  print('Obesidade classe II')\n",
        "elif('imc = 40.0'):\n",
        " print('Obesidade classeIII')\n",
        "else:\n",
        " print(\"obeso III\")\n",
        "print('O IMC do paciente é', roud(imc,2))\n"
      ],
      "metadata": {
        "id": "zXG79Lse1Snf"
      },
      "execution_count": null,
      "outputs": []
    }
  ]
}